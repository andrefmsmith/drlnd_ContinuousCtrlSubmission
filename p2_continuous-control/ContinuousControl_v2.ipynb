{
 "cells": [
  {
   "cell_type": "code",
   "execution_count": 1,
   "metadata": {},
   "outputs": [
    {
     "name": "stderr",
     "output_type": "stream",
     "text": [
      "INFO:unityagents:\n",
      "'Academy' started successfully!\n",
      "Unity Academy name: Academy\n",
      "        Number of Brains: 1\n",
      "        Number of External Brains : 1\n",
      "        Lesson number : 0\n",
      "        Reset Parameters :\n",
      "\t\tgoal_speed -> 1.0\n",
      "\t\tgoal_size -> 5.0\n",
      "Unity brain name: ReacherBrain\n",
      "        Number of Visual Observations (per agent): 0\n",
      "        Vector Observation space type: continuous\n",
      "        Vector Observation space size (per agent): 33\n",
      "        Number of stacked Vector Observation: 1\n",
      "        Vector Action space type: continuous\n",
      "        Vector Action space size (per agent): 4\n",
      "        Vector Action descriptions: , , , \n"
     ]
    }
   ],
   "source": [
    "import copy\n",
    "import torch\n",
    "import random\n",
    "import numpy as np\n",
    "import torch.nn as nn\n",
    "import torch.optim as optim\n",
    "import matplotlib.pyplot as plt\n",
    "import torch.nn.functional as F\n",
    "from unityagents import UnityEnvironment\n",
    "from collections import namedtuple, deque\n",
    "\n",
    "env = UnityEnvironment(file_name='Reacher_Windows_x86_64/Reacher.exe')\n",
    "\n",
    "brain_name = env.brain_names[0]\n",
    "brain = env.brains[brain_name]\n",
    "env_info = env.reset(train_mode=True)[brain_name]\n",
    "action_size = brain.vector_action_space_size\n",
    "state_size = env_info.vector_observations.shape[1]\n",
    "device = torch.device(\"cuda:0\" if torch.cuda.is_available() else \"cpu\")"
   ]
  },
  {
   "cell_type": "code",
   "execution_count": 2,
   "metadata": {},
   "outputs": [],
   "source": [
    "BUFFER_SIZE = int(3e6)     # replay buffer size\n",
    "BATCH_SIZE = 1024          # minibatch size\n",
    "GAMMA = 0.99               # discount factor\n",
    "TAU = 1e-3                 # for soft update of target parameters\n",
    "LR_ACTOR = 1e-4            # learning rate of the actor \n",
    "LR_CRITIC = 2e-4           # learning rate of the critic\n",
    "update_every = 20          # number of timesteps after which to run an update\n",
    "SN = 0.25                  # starting value for additive noise scale (exploratory actions)\n",
    "ND = 0.99999               # noise decay rate (exploratory actions)\n",
    "NM = 0.01                  # noise minimum to be maintained (exploratory actions)\n",
    "\n",
    "device = torch.device(\"cuda:0\" if torch.cuda.is_available() else \"cpu\")"
   ]
  },
  {
   "cell_type": "code",
   "execution_count": 8,
   "metadata": {},
   "outputs": [],
   "source": [
    "class Actor(nn.Module):\n",
    "    def __init__(self, state_size, action_size, hu=(400, 300), activ_in = F.relu, activ_out = torch.tanh):\n",
    "        super(Actor, self).__init__()\n",
    "        \n",
    "        self.activ_in = activ_in\n",
    "        self.activ_out = activ_out\n",
    "        \n",
    "        self.input_layer = nn.Linear(state_size, hu[0])\n",
    "        self.hl1 = nn.Linear(hu[0], hu[1])\n",
    "        #self.hl2 = nn.Linear(hu[1], hu[2])\n",
    "        self.output_layer = nn.Linear(hu[-1], action_size)\n",
    "        \n",
    "    def forward(self, state):\n",
    "        #x = torch.from_numpy(state).float().to(device)\n",
    "        x = state\n",
    "        x = self.activ_in(self.input_layer(x))\n",
    "        x = self.activ_in(self.hl1(x))\n",
    "        #x = self.activ_in(self.hl2(x))\n",
    "        return self.activ_out(self.output_layer(x))  \n",
    "    \n",
    "class Critic(nn.Module):\n",
    "    def __init__(self, state_size, action_size, hu=(400, 300), activ_in = F.relu):\n",
    "        super(Critic, self).__init__()\n",
    "        \n",
    "        self.activ_in = activ_in\n",
    "        \n",
    "        self.input_layer = nn.Linear(state_size, hu[0])\n",
    "        self.hl1 = nn.Linear(hu[0]+action_size, hu[1])\n",
    "        #self.hl2 = nn.Linear(hu[1], hu[2])          \n",
    "        self.output_layer = nn.Linear(hu[-1], 1)\n",
    "        \n",
    "    def forward(self, state, action):\n",
    "        #x = torch.from_numpy(state).float().to(device)\n",
    "        x = state\n",
    "        u = action#torch.from_numpy(action).float().to(device)\n",
    "        \n",
    "        x = self.activ_in(self.input_layer(x))\n",
    "        x = torch.cat((x, u), dim=1)\n",
    "        x = self.activ_in(self.hl1(x))\n",
    "        #x = self.activ_in(self.hl2(x))\n",
    "        return self.output_layer(x)"
   ]
  },
  {
   "cell_type": "code",
   "execution_count": 4,
   "metadata": {},
   "outputs": [],
   "source": [
    "class Agent():\n",
    "    def __init__(self, state_size, action_size, start_noise=SN, noise_decay=ND, noise_min=NM, add_noise=True):\n",
    "        self.state_size = state_size\n",
    "        self.action_size = action_size\n",
    "        \n",
    "        ### Actor online and target networks\n",
    "        self.actor_online = Actor(state_size, action_size).to(device)\n",
    "        self.actor_target = Actor(state_size, action_size).to(device)\n",
    "        self.actor_optimizer = optim.Adam(self.actor_online.parameters(), lr=LR_ACTOR)\n",
    "        \n",
    "        ### Critic online and target networks\n",
    "        self.critic_online = Critic(state_size, action_size).to(device)\n",
    "        self.critic_target = Critic(state_size, action_size).to(device)\n",
    "        self.critic_optimizer = optim.Adam(self.critic_online.parameters(), lr=LR_CRITIC)\n",
    "        \n",
    "        \n",
    "        ### Noise parameters for exploration\n",
    "        self.noise_scale = start_noise\n",
    "        self.noise_decay = noise_decay\n",
    "        self.noise_min = noise_min\n",
    "        \n",
    "        self.add_noise = add_noise\n",
    "        \n",
    "        ### Replay buffer\n",
    "        self.memory = ReplayBuffer(action_size, BUFFER_SIZE, BATCH_SIZE)\n",
    "        \n",
    "        self.update = 0\n",
    "        \n",
    "    def generate_noise(self):\n",
    "        noise = np.random.normal(loc=0, scale=self.noise_scale, size=self.action_size)\n",
    "        self.noise_scale = max(self.noise_decay*self.noise_scale, self.noise_min)\n",
    "        return noise\n",
    "    \n",
    "    def step(self, state, action, reward, next_state, done, update_cycles=3):\n",
    "        # Commit experience to memory\n",
    "        self.memory.add(state, action, reward, next_state, done)\n",
    "        \n",
    "        self.update = (self.update +1)%update_every\n",
    "        \n",
    "        # Run optimisation step 'update_cycles' times\n",
    "        c=0\n",
    "        if (self.update==0):\n",
    "            if len(self.memory) > BATCH_SIZE:\n",
    "                while c < update_cycles:\n",
    "                    experiences = self.memory.sample()\n",
    "                    self.learn(experiences, GAMMA)\n",
    "                    c+=1\n",
    "    \n",
    "    def act(self, state):\n",
    "        state = torch.from_numpy(state).float().to(device)\n",
    "        self.actor_online.eval()\n",
    "        with torch.no_grad():\n",
    "            action = self.actor_online(state).cpu().data.numpy()\n",
    "        self.actor_online.train()\n",
    "        if self.add_noise:\n",
    "            action += self.generate_noise()\n",
    "        return np.clip(action, -1, 1)\n",
    "    \n",
    "    def learn(self, experiences, gamma):\n",
    "        states, actions, rewards, next_states, dones = experiences\n",
    "        \n",
    "        ### Update critic\n",
    "        actions_next = self.actor_target(next_states)\n",
    "        Q_targets_next = self.critic_target(next_states, actions_next)\n",
    "        Q_targets = rewards + (gamma * Q_targets_next * (1-dones))\n",
    "        Q_expected = self.critic_online(states, actions)\n",
    "        critic_loss = F.mse_loss(Q_expected, Q_targets)\n",
    "        \n",
    "        # Backprop\n",
    "        self.critic_optimizer.zero_grad()\n",
    "        critic_loss.backward()\n",
    "        torch.nn.utils.clip_grad_norm_(self.critic_online.parameters(), 1)\n",
    "        self.critic_optimizer.step()\n",
    "        \n",
    "        \n",
    "        ### Update actor\n",
    "        actions_pred = self.actor_online(states)\n",
    "        actor_loss = -self.critic_online(states, actions_pred).mean()\n",
    "        \n",
    "        # Backprop\n",
    "        self.actor_optimizer.zero_grad()\n",
    "        actor_loss.backward()\n",
    "        torch.nn.utils.clip_grad_norm_(self.actor_online.parameters(), 1)\n",
    "        self.actor_optimizer.step()\n",
    "        \n",
    "        \n",
    "        ### Update targets\n",
    "        self.soft_update(self.critic_online, self.critic_target, TAU)\n",
    "        self.soft_update(self.actor_online, self.actor_target, TAU)\n",
    "        \n",
    "    def soft_update(self, online_model, target_model, tau):\n",
    "        for target_param, online_param in zip(target_model.parameters(), online_model.parameters()):\n",
    "            target_param.data.copy_(tau*online_param.data + (1.0-tau)*target_param.data)\n",
    "            \n",
    "class ReplayBuffer:\n",
    "    def __init__(self, action_size, buffer_size, batch_size):\n",
    "        self.action_size = action_size\n",
    "        self.memory = deque(maxlen=buffer_size)\n",
    "        self.batch_size = batch_size\n",
    "        self.experience = namedtuple(\"Experience\", field_names=[\"state\", \"action\", \"reward\", \"next_state\", \"done\"])\n",
    "\n",
    "    def add(self, state, action, reward, next_state, done):\n",
    "        e = self.experience(state, action, reward, next_state, done)\n",
    "        self.memory.append(e)\n",
    "\n",
    "    def sample(self):\n",
    "        experiences = random.sample(self.memory, k=self.batch_size)\n",
    "\n",
    "        states = torch.from_numpy(np.vstack([e.state for e in experiences if e is not None])).float().to(device)\n",
    "        actions = torch.from_numpy(np.vstack([e.action for e in experiences if e is not None])).float().to(device)\n",
    "        rewards = torch.from_numpy(np.vstack([e.reward for e in experiences if e is not None])).float().to(device)\n",
    "        next_states = torch.from_numpy(np.vstack([e.next_state for e in experiences if e is not None])).float().to(device)\n",
    "        dones = torch.from_numpy(np.vstack([e.done for e in experiences if e is not None]).astype(np.uint8)).float().to(device)\n",
    "        \n",
    "        return (states, actions, rewards, next_states, dones)\n",
    "    \n",
    "    def __len__(self):\n",
    "        return len(self.memory)"
   ]
  },
  {
   "cell_type": "code",
   "execution_count": 6,
   "metadata": {},
   "outputs": [],
   "source": [
    "def ddpg(n_episodes=1000, max_t=1000, output):\n",
    "    scores_deque = deque(maxlen=100)\n",
    "    scores = []\n",
    "    for i_episode in range(1, n_episodes+1):\n",
    "        env_info = env.reset(train_mode=True)[brain_name]           # reset the environment \n",
    "        state = env_info.vector_observations[0]                     # get the current state\n",
    "        score = 0                                                   # initialize the score\n",
    "        for t in range(max_t):\n",
    "            action = agent.act(state)\n",
    "            env_info = env.step(action)[brain_name]                 # send action to tne environment\n",
    "            next_state = env_info.vector_observations[0]            # get next state\n",
    "            reward = env_info.rewards[0]                            # get reward\n",
    "            done = env_info.local_done[0]                           # see if episode finished\n",
    "            agent.step(state, action, reward, next_state, done)     # agent takes one step to train\n",
    "            state = next_state                                      # roll over state to next time step\n",
    "            score += reward                                         # update the score\n",
    "            if done:                                                # exit loop if episode finished\n",
    "                break \n",
    "        scores_deque.append(score)\n",
    "        scores.append(score)\n",
    "        print('\\rEpisode {}\\tAverage Score: {:.2f}\\tScore: {:.2f}'.format(i_episode, np.mean(scores_deque), score), end=\"\")\n",
    "        if np.mean(scores_deque)>=30.0:\n",
    "            print('\\nEnvironment solved in {:d} episodes!\\tAverage Score: {:.2f}'.format(i_episode-100, np.mean(scores_deque)))\n",
    "            torch.save(agent.actor_online.state_dict(), '{}_checkpoint_actor.pth'.format(output))\n",
    "            torch.save(agent.critic_online.state_dict(), '{}_checkpoint_critic.pth'.format(output))\n",
    "            break\n",
    "            \n",
    "    return scores"
   ]
  },
  {
   "cell_type": "code",
   "execution_count": null,
   "metadata": {},
   "outputs": [],
   "source": [
    "env_info = env.reset(train_mode=False)[brain_name]    # reset the environment    \n",
    "state = env_info.vector_observations                  # get the current state \n",
    "score = 0                                             # initialize the score\n",
    "agent.add_noise = False\n",
    "for i in range(1000):\n",
    "    action = agent.act(state)                         # select an action\n",
    "    env_info = env.step(action)[brain_name]           # send action to tne environment\n",
    "    next_state = env_info.vector_observations[0]      # get next state\n",
    "    reward = env_info.rewards[0]                      # get reward\n",
    "    done = env_info.local_done[0]                     # see if episode finished\n",
    "    score += env_info.rewards[0]                      # update the score\n",
    "    state = next_state                                # roll over state to next time step\n",
    "    if done:                                          # exit loop if episode finished\n",
    "        break\n",
    "print('Total score this episode: {:.2f}'.format(score))\n",
    "agent.add_noise = True"
   ]
  },
  {
   "cell_type": "code",
   "execution_count": 10,
   "metadata": {},
   "outputs": [
    {
     "name": "stdout",
     "output_type": "stream",
     "text": [
      "\r",
      "Episode 1\tAverage Score: 0.30\tScore: 0.30"
     ]
    },
    {
     "name": "stderr",
     "output_type": "stream",
     "text": [
      "C:\\Users\\Andre\\Anaconda3\\envs\\drlnd\\lib\\site-packages\\ipykernel_launcher.py:72: UserWarning: torch.nn.utils.clip_grad_norm is now deprecated in favor of torch.nn.utils.clip_grad_norm_.\n",
      "C:\\Users\\Andre\\Anaconda3\\envs\\drlnd\\lib\\site-packages\\ipykernel_launcher.py:83: UserWarning: torch.nn.utils.clip_grad_norm is now deprecated in favor of torch.nn.utils.clip_grad_norm_.\n"
     ]
    },
    {
     "name": "stdout",
     "output_type": "stream",
     "text": [
      "Episode 369\tAverage Score: 30.07\tScore: 37.70\n",
      "Environment solved in 269 episodes!\tAverage Score: 30.07\n"
     ]
    }
   ],
   "source": [
    "agent = Agent(state_size, action_size)\n",
    "scores = ddpg(output='01.04.2020')"
   ]
  },
  {
   "cell_type": "code",
   "execution_count": 11,
   "metadata": {},
   "outputs": [
    {
     "data": {
      "image/png": "[encoded data removed]",
      "text/plain": [
       "<Figure size 432x288 with 1 Axes>"
      ]
     },
     "metadata": {
      "needs_background": "light"
     },
     "output_type": "display_data"
    }
   ],
   "source": [
    "fig = plt.figure()\n",
    "ax = fig.add_subplot(111)\n",
    "plt.plot(np.arange(1, len(scores)+1), scores)\n",
    "plt.ylabel('Score')\n",
    "plt.xlabel('Episode #')\n",
    "plt.show()"
   ]
  },
  {
   "cell_type": "code",
   "execution_count": 15,
   "metadata": {},
   "outputs": [
    {
     "name": "stdout",
     "output_type": "stream",
     "text": [
      "Total score this episode: 38.41\n"
     ]
    }
   ],
   "source": [
    "env_info = env.reset(train_mode=False)[brain_name]    # reset the environment    \n",
    "state = env_info.vector_observations                  # get the current state \n",
    "score = 0                                             # initialize the score\n",
    "agent.add_noise = False\n",
    "for i in range(1000):\n",
    "    action = agent.act(state)                         # select an action\n",
    "    env_info = env.step(action)[brain_name]           # send action to tne environment\n",
    "    next_state = env_info.vector_observations[0]      # get next state\n",
    "    reward = env_info.rewards[0]                      # get reward\n",
    "    done = env_info.local_done[0]                     # see if episode finished\n",
    "    score += env_info.rewards[0]                      # update the score\n",
    "    state = next_state                                # roll over state to next time step\n",
    "    if done:                                          # exit loop if episode finished\n",
    "        break\n",
    "print('Total score this episode: {:.2f}'.format(score))\n",
    "agent.add_noise = True"
   ]
  },
  {
   "cell_type": "code",
   "execution_count": null,
   "metadata": {},
   "outputs": [],
   "source": []
  }
 ],
 "metadata": {
  "kernelspec": {
   "display_name": "drlnd",
   "language": "python",
   "name": "drlnd"
  },
  "language_info": {
   "codemirror_mode": {
    "name": "ipython",
    "version": 3
   },
   "file_extension": ".py",
   "mimetype": "text/x-python",
   "name": "python",
   "nbconvert_exporter": "python",
   "pygments_lexer": "ipython3",
   "version": "3.6.10"
  }
 },
 "nbformat": 4,
 "nbformat_minor": 4
}
